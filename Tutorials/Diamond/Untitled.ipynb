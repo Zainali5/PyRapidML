{
 "cells": [
  {
   "cell_type": "code",
   "execution_count": 1,
   "metadata": {},
   "outputs": [
    {
     "name": "stdout",
     "output_type": "stream",
     "text": [
      "LotFrontage 0.1774  % missing values\n",
      "Alley 0.9377  % missing values\n",
      "MasVnrType 0.0055  % missing values\n",
      "MasVnrArea 0.0055  % missing values\n",
      "BsmtQual 0.0253  % missing values\n",
      "BsmtCond 0.0253  % missing values\n",
      "BsmtExposure 0.026  % missing values\n",
      "BsmtFinType1 0.0253  % missing values\n",
      "BsmtFinType2 0.026  % missing values\n",
      "FireplaceQu 0.4726  % missing values\n",
      "GarageType 0.0555  % missing values\n",
      "GarageYrBlt 0.0555  % missing values\n",
      "GarageFinish 0.0555  % missing values\n",
      "GarageQual 0.0555  % missing values\n",
      "GarageCond 0.0555  % missing values\n",
      "PoolQC 0.9952  % missing values\n",
      "Fence 0.8075  % missing values\n",
      "MiscFeature 0.963  % missing values\n"
     ]
    }
   ],
   "source": [
    "import PyRapidML\n",
    "import pandas as pd\n",
    "\n",
    "df = pd.read_csv('/Users/zainali/Downloads/train.csv')\n",
    "\n",
    "from PyRapidML.check_na import *\n",
    "check_na(df)\n"
   ]
  },
  {
   "cell_type": "code",
   "execution_count": null,
   "metadata": {},
   "outputs": [],
   "source": []
  }
 ],
 "metadata": {
  "kernelspec": {
   "display_name": "Python 3",
   "language": "python",
   "name": "python3"
  },
  "language_info": {
   "codemirror_mode": {
    "name": "ipython",
    "version": 3
   },
   "file_extension": ".py",
   "mimetype": "text/x-python",
   "name": "python",
   "nbconvert_exporter": "python",
   "pygments_lexer": "ipython3",
   "version": "3.6.4"
  }
 },
 "nbformat": 4,
 "nbformat_minor": 2
}
